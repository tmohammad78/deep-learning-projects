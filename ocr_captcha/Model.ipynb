{
  "nbformat": 4,
  "nbformat_minor": 0,
  "metadata": {
    "kernelspec": {
      "display_name": "Python 3",
      "language": "python",
      "name": "python3"
    },
    "language_info": {
      "codemirror_mode": {
        "name": "ipython",
        "version": 3
      },
      "file_extension": ".py",
      "mimetype": "text/x-python",
      "name": "python",
      "nbconvert_exporter": "python",
      "pygments_lexer": "ipython3",
      "version": "3.8.10"
    },
    "colab": {
      "name": "Model.ipynb",
      "provenance": []
    },
    "accelerator": "GPU"
  },
  "cells": [
    {
      "cell_type": "code",
      "metadata": {
        "id": "jWTbB9X17U6L"
      },
      "source": [
        "import os\n",
        "import numpy as np\n",
        "import matplotlib.pyplot as plt\n",
        "\n",
        "from pathlib import Path\n",
        "from collections import Counter\n",
        "\n",
        "import tensorflow as tf\n",
        "from tensorflow import keras\n",
        "from tensorflow.keras import layers"
      ],
      "execution_count": 1,
      "outputs": []
    },
    {
      "cell_type": "code",
      "metadata": {
        "id": "pcg5C8HT7U6M",
        "outputId": "8cc4ba1e-931c-4ae8-d380-3dc364f2d9a8",
        "colab": {
          "base_uri": "https://localhost:8080/"
        }
      },
      "source": [
        "!curl -LO https://github.com/AakashKumarNain/CaptchaCracker/raw/master/captcha_images_v2.zip\n",
        "!unzip -qq captcha_images_v2.zip"
      ],
      "execution_count": 2,
      "outputs": [
        {
          "output_type": "stream",
          "text": [
            "  % Total    % Received % Xferd  Average Speed   Time    Time     Time  Current\n",
            "                                 Dload  Upload   Total   Spent    Left  Speed\n",
            "100   159  100   159    0     0    716      0 --:--:-- --:--:-- --:--:--   716\n",
            "100 8863k  100 8863k    0     0  19.8M      0 --:--:-- --:--:-- --:--:-- 19.8M\n"
          ],
          "name": "stdout"
        }
      ]
    },
    {
      "cell_type": "code",
      "metadata": {
        "id": "jdauuT-f7beF"
      },
      "source": [
        "data_dir = Path(\"./captcha_images_v2\")\n",
        "images = sorted(list(map(str, list(data_dir.glob(\"*.png\")))))\n",
        "# lables = []\n",
        "# for img in images:\n",
        "#   lables.append(img.split(os.path.sep)[-1].split(\".png\")[0])\n",
        "# lables\n",
        "labels = [img.split(os.path.sep)[-1].split(\".png\")[0] for img in images]\n",
        "characters = set(char for label in labels for char in label)\n",
        "# for label in labels:\n",
        "#   for char in label:\n",
        "#     print(char)"
      ],
      "execution_count": 39,
      "outputs": []
    },
    {
      "cell_type": "code",
      "metadata": {
        "id": "6PUgJ74d7wGT",
        "outputId": "0320d031-c03a-4d17-e2e6-66a35eab6ca5",
        "colab": {
          "base_uri": "https://localhost:8080/"
        }
      },
      "source": [
        "print(\"Number of images found: \", len(images))\n",
        "print(\"Number of labels found: \", len(labels))\n",
        "print(\"Number of unique characters: \", len(characters))\n",
        "print(\"Characters present: \", characters)"
      ],
      "execution_count": 36,
      "outputs": [
        {
          "output_type": "stream",
          "text": [
            "Number of images found:  1040\n",
            "Number of labels found:  1040\n",
            "Number of unique characters:  19\n",
            "Characters present:  {'y', '7', 'n', 'g', '2', 'e', 'w', 'c', 'f', '3', '4', '8', 'b', '6', 'p', 'x', '5', 'm', 'd'}\n"
          ],
          "name": "stdout"
        }
      ]
    },
    {
      "cell_type": "code",
      "metadata": {
        "id": "g2sjjGZuA-kJ"
      },
      "source": [
        "char_to_num = layers.experimental.preprocessing.StringLookup(vocabulary=list(characters),mask_token=None)\n",
        "\n",
        "num_to_char = layers.experimental.preprocessing.StringLookup(\n",
        "    vocabulary=char_to_num.get_vocabulary(), mask_token=None, invert=True\n",
        ")\n"
      ],
      "execution_count": 68,
      "outputs": []
    },
    {
      "cell_type": "code",
      "metadata": {
        "id": "6SVZZrfNCJsn"
      },
      "source": [
        "def split_data(images,labels,train_size=0.9,shuffle=True):\n",
        "  size = len(images)\n",
        "  indices = np.arange(size)\n",
        "  data_size = int(size * train_size)\n",
        "  if shuffle:\n",
        "    np.random.shuffle(indices)\n",
        "  x_train , y_train = images[indices[:data_size]] , labels[indices[:data_size]] \n",
        "  x_test , y_test = images[indices[:data_size]] , labels[indices[:data_size]] \n",
        "  return images\n"
      ],
      "execution_count": 88,
      "outputs": []
    },
    {
      "cell_type": "code",
      "metadata": {
        "id": "BHLMsfmLCK7Z",
        "outputId": "b08756c6-e850-4707-bc2e-8bdcbc285139",
        "colab": {
          "base_uri": "https://localhost:8080/"
        }
      },
      "source": [
        "split_data(np.array(images),np.array(labels))"
      ],
      "execution_count": 90,
      "outputs": [
        {
          "output_type": "execute_result",
          "data": {
            "text/plain": [
              "array(['captcha_images_v2/226md.png', 'captcha_images_v2/22d5n.png',\n",
              "       'captcha_images_v2/2356g.png', ..., 'captcha_images_v2/yy824.png',\n",
              "       'captcha_images_v2/yyg5g.png', 'captcha_images_v2/yyn57.png'],\n",
              "      dtype='<U27')"
            ]
          },
          "metadata": {
            "tags": []
          },
          "execution_count": 90
        }
      ]
    },
    {
      "cell_type": "code",
      "metadata": {
        "id": "E98vOQt5FM9h"
      },
      "source": [
        ""
      ],
      "execution_count": 85,
      "outputs": []
    },
    {
      "cell_type": "code",
      "metadata": {
        "id": "sNwk4v_JFv16"
      },
      "source": [
        ""
      ],
      "execution_count": null,
      "outputs": []
    }
  ]
}