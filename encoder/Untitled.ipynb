{
 "cells": [
  {
   "cell_type": "code",
   "execution_count": 1,
   "metadata": {},
   "outputs": [],
   "source": [
    "import tensorflow as tf\n",
    "from tensorflow import keras\n",
    "import matplotlib.pyplot as plt\n",
    "import numpy as np"
   ]
  },
  {
   "cell_type": "code",
   "execution_count": 2,
   "metadata": {},
   "outputs": [],
   "source": [
    "(x_train , y_train) , (x_test,y_test) = tf.keras.datasets.mnist.load_data()"
   ]
  },
  {
   "cell_type": "code",
   "execution_count": 3,
   "metadata": {},
   "outputs": [
    {
     "data": {
      "text/plain": [
       "<matplotlib.image.AxesImage at 0x7f8ef6a30be0>"
      ]
     },
     "execution_count": 3,
     "metadata": {},
     "output_type": "execute_result"
    },
    {
     "data": {
      "image/png": "[encoded data removed]",
      "text/plain": [
       "<Figure size 432x288 with 1 Axes>"
      ]
     },
     "metadata": {
      "needs_background": "light"
     },
     "output_type": "display_data"
    }
   ],
   "source": [
    "plt.imshow(x_train[0] , cmap=\"gray\")"
   ]
  },
  {
   "cell_type": "code",
   "execution_count": null,
   "metadata": {},
   "outputs": [],
   "source": []
  },
  {
   "cell_type": "code",
   "execution_count": 4,
   "metadata": {},
   "outputs": [
    {
     "data": {
      "text/plain": [
       "(28, 28)"
      ]
     },
     "execution_count": 4,
     "metadata": {},
     "output_type": "execute_result"
    }
   ],
   "source": [
    "x_train[0].shape"
   ]
  },
  {
   "cell_type": "code",
   "execution_count": 5,
   "metadata": {},
   "outputs": [],
   "source": [
    "x_train = x_train/255.0\n",
    "x_test = x_test/255.0"
   ]
  },
  {
   "cell_type": "code",
   "execution_count": 6,
   "metadata": {},
   "outputs": [
    {
     "name": "stdout",
     "output_type": "stream",
     "text": [
      "Model: \"autoencoder\"\n",
      "_________________________________________________________________\n",
      "Layer (type)                 Output Shape              Param #   \n",
      "=================================================================\n",
      "img (InputLayer)             [(None, 28, 28, 1)]       0         \n",
      "_________________________________________________________________\n",
      "flatten (Flatten)            (None, 784)               0         \n",
      "_________________________________________________________________\n",
      "dense (Dense)                (None, 64)                50240     \n",
      "_________________________________________________________________\n",
      "dense_1 (Dense)              (None, 784)               50960     \n",
      "_________________________________________________________________\n",
      "reshape (Reshape)            (None, 28, 28, 1)         0         \n",
      "=================================================================\n",
      "Total params: 101,200\n",
      "Trainable params: 101,200\n",
      "Non-trainable params: 0\n",
      "_________________________________________________________________\n"
     ]
    }
   ],
   "source": [
    "encoder_input = keras.Input(shape=(28,28,1),name=\"img\")\n",
    "x = keras.layers.Flatten()(encoder_input)\n",
    "encoder_output= keras.layers.Dense(64,activation=\"relu\")(x)\n",
    "\n",
    "encoder = keras.Model(encoder_input,encoder_output, name=\"encoder\")\n",
    "\n",
    "decoder_input = keras.layers.Dense(784,activation=\"relu\")(encoder_output)\n",
    "# x = keras.layers.Dense(784,activation=\"relu\")(decoder_input)\n",
    "decoder_output = keras.layers.Reshape((28,28,1))(decoder_input)\n",
    "\n",
    "opt = keras.optimizers.Adam(lr=0.001,decay = 1e-6)\n",
    "\n",
    "autoencoder = keras.Model(encoder_input,decoder_output,name=\"autoencoder\")\n",
    "autoencoder.summary()"
   ]
  },
  {
   "cell_type": "code",
   "execution_count": 7,
   "metadata": {},
   "outputs": [],
   "source": [
    "autoencoder.compile(opt,loss=\"mse\")"
   ]
  },
  {
   "cell_type": "code",
   "execution_count": 8,
   "metadata": {},
   "outputs": [
    {
     "name": "stdout",
     "output_type": "stream",
     "text": [
      "Epoch 1/8\n",
      "1688/1688 [==============================] - 4s 2ms/step - loss: 0.0272 - val_loss: 0.0105\n",
      "Epoch 2/8\n",
      "1688/1688 [==============================] - 3s 2ms/step - loss: 0.0103 - val_loss: 0.0098\n",
      "Epoch 3/8\n",
      "1688/1688 [==============================] - 3s 2ms/step - loss: 0.0096 - val_loss: 0.0095\n",
      "Epoch 4/8\n",
      "1688/1688 [==============================] - 3s 2ms/step - loss: 0.0094 - val_loss: 0.0093\n",
      "Epoch 5/8\n",
      "1688/1688 [==============================] - 3s 2ms/step - loss: 0.0092 - val_loss: 0.0092\n",
      "Epoch 6/8\n",
      "1688/1688 [==============================] - 3s 2ms/step - loss: 0.0092 - val_loss: 0.0092\n",
      "Epoch 7/8\n",
      "1688/1688 [==============================] - 3s 2ms/step - loss: 0.0091 - val_loss: 0.0092\n",
      "Epoch 8/8\n",
      "1688/1688 [==============================] - 3s 2ms/step - loss: 0.0091 - val_loss: 0.0092\n"
     ]
    },
    {
     "data": {
      "text/plain": [
       "<tensorflow.python.keras.callbacks.History at 0x7f8efef26220>"
      ]
     },
     "execution_count": 8,
     "metadata": {},
     "output_type": "execute_result"
    }
   ],
   "source": [
    "autoencoder.fit(x_train,x_train, epochs=8 , batch_size=32 , validation_split=0.1)"
   ]
  },
  {
   "cell_type": "code",
   "execution_count": 9,
   "metadata": {},
   "outputs": [
    {
     "name": "stdout",
     "output_type": "stream",
     "text": [
      "[1.0157686  0.         1.5441142  0.2618993  1.9944835  1.1873801\n",
      " 1.020691   1.5900704  0.78833085 0.4050912  0.8697845  0.47463214\n",
      " 0.68200815 0.25765252 0.531793   0.2703143  0.82185173 0.90175176\n",
      " 0.939633   0.5505391  1.9449202  1.9133894  0.8458111  1.0743316\n",
      " 0.43209386 0.02463248 1.6504219  1.844139   0.36945897 1.2725861\n",
      " 1.3919225  0.5944691  1.7999861  1.6977084  0.76014715 0.24123\n",
      " 1.2004935  0.42237073 0.05594513 1.037761   0.41821373 0.49427772\n",
      " 0.5332576  0.7866805  0.         0.5010419  0.71424556 0.5451559\n",
      " 0.83178824 1.06273    0.9741696  2.3309073  0.32499123 0.392019\n",
      " 0.94660676 1.4550872  1.5809875  0.88304794 1.1249009  0.7262988\n",
      " 0.47608697 1.6463456  1.1856401  1.9751849 ]\n"
     ]
    }
   ],
   "source": [
    "example = encoder.predict([x_test[0].reshape(-1,28,28,1)])\n",
    "print(example[0])"
   ]
  },
  {
   "cell_type": "code",
   "execution_count": 10,
   "metadata": {},
   "outputs": [
    {
     "data": {
      "text/plain": [
       "<matplotlib.image.AxesImage at 0x7f8edc1a4460>"
      ]
     },
     "execution_count": 10,
     "metadata": {},
     "output_type": "execute_result"
    },
    {
     "data": {
      "image/png": "[encoded data removed]",
      "text/plain": [
       "<Figure size 432x288 with 1 Axes>"
      ]
     },
     "metadata": {
      "needs_background": "light"
     },
     "output_type": "display_data"
    }
   ],
   "source": [
    " plt.imshow(example[0].reshape((8,8)),cmap=\"gray\")"
   ]
  },
  {
   "cell_type": "code",
   "execution_count": 13,
   "metadata": {},
   "outputs": [
    {
     "data": {
      "text/plain": [
       "<matplotlib.image.AxesImage at 0x7f8edc0b8460>"
      ]
     },
     "execution_count": 13,
     "metadata": {},
     "output_type": "execute_result"
    },
    {
     "data": {
      "image/png": "[encoded data removed]",
      "text/plain": [
       "<Figure size 432x288 with 1 Axes>"
      ]
     },
     "metadata": {
      "needs_background": "light"
     },
     "output_type": "display_data"
    }
   ],
   "source": [
    " plt.imshow(x_test[1],cmap=\"gray\")"
   ]
  },
  {
   "cell_type": "code",
   "execution_count": 14,
   "metadata": {},
   "outputs": [
    {
     "data": {
      "text/plain": [
       "<matplotlib.image.AxesImage at 0x7f8edc039a90>"
      ]
     },
     "execution_count": 14,
     "metadata": {},
     "output_type": "execute_result"
    },
    {
     "data": {
      "image/png": "[encoded data removed]",
      "text/plain": [
       "<Figure size 432x288 with 1 Axes>"
      ]
     },
     "metadata": {
      "needs_background": "light"
     },
     "output_type": "display_data"
    }
   ],
   "source": [
    "a_out = autoencoder.predict([x_test[1].reshape(-1,28,28,1)])[0]\n",
    "plt.imshow(a_out,cmap=\"gray\")"
   ]
  },
  {
   "cell_type": "code",
   "execution_count": null,
   "metadata": {},
   "outputs": [],
   "source": []
  },
  {
   "cell_type": "code",
   "execution_count": null,
   "metadata": {},
   "outputs": [],
   "source": []
  }
 ],
 "metadata": {
  "kernelspec": {
   "display_name": "Python 3",
   "language": "python",
   "name": "python3"
  },
  "language_info": {
   "codemirror_mode": {
    "name": "ipython",
    "version": 3
   },
   "file_extension": ".py",
   "mimetype": "text/x-python",
   "name": "python",
   "nbconvert_exporter": "python",
   "pygments_lexer": "ipython3",
   "version": "3.8.10"
  }
 },
 "nbformat": 4,
 "nbformat_minor": 4
}
